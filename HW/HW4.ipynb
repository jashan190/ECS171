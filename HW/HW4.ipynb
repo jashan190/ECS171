{
 "cells": [
  {
   "cell_type": "markdown",
   "id": "565fd07f",
   "metadata": {},
   "source": [
    "#### Homework4\n",
    "Please explain clearly and include your entire computational work when needed. Should you include any code, please make sure to provide additional comments to explain your solution. You are not allowed to use ChatGPT to answer any of the questions. "
   ]
  },
  {
   "cell_type": "markdown",
   "id": "413ecf28",
   "metadata": {},
   "source": [
    "Q1- (10 points) Why Bagged-decision trees and Random Forests are considered \"ensemble learning\" techniques? Compare these models and fully explain their differences and points they have in common. "
   ]
  },
  {
   "cell_type": "markdown",
   "id": "6207c22d",
   "metadata": {},
   "source": [
    "#Why are bagged decision trees/ Random Forest models considered to be ensemble learning.\n",
    "\n",
    "\n",
    "Bagged decision trees and Random Forests are considered ensemble learning techniques because they combine the predictions of multiple decision trees to improve model performance and reduce overfitting. Both use bootstrapping to train trees on different subsets of the data, but Random Forests add an extra layer of randomness by selecting a random subset of features at each split, which helps reduce correlation between trees. This ensemble approach leads to more stable, accurate, and generalizable predictions compared to a single decision tree.\n",
    "\n"
   ]
  },
  {
   "cell_type": "markdown",
   "id": "d929926e",
   "metadata": {},
   "source": [
    "Q2- (40 points) Complete these questions:\n",
    "- (30 points) Use the weather dataset provided in the lecture slides, and construct the decision tree until the leaf nodes are homogeneous in terms of the class label \"Played\". Use Information Gain as your criterion. Provide the comoutations for calculating the Information Gain during the Greedy search method and mathematically justify why a feature is selected at each decision node. \n",
    "- (10 points) Provide a visualization of the entire tree. At last, extract 4 decision rules and provide them in your answer. "
   ]
  },
  {
   "cell_type": "markdown",
   "id": "a975223c",
   "metadata": {},
   "source": [
    "Q3- (10 points) What are the differences between Agglomerative Clustering and K-Means Clustering? Fully explain in details in terms of the methodology used. \n"
   ]
  },
  {
   "cell_type": "markdown",
   "id": "934904ce",
   "metadata": {},
   "source": [
    "Q4- (10 points) Explain how the number of clusters can be determined in K-means clustering? Fully explain the methodology. "
   ]
  },
  {
   "attachments": {},
   "cell_type": "markdown",
   "id": "04f2feed",
   "metadata": {},
   "source": [
    "Q5- (20 points) You are given a dataset: vehicles.csv. \n",
    "\n",
    "Dataset Columns:\n",
    "VehicleID: Unique identifier for each vehicle.\n",
    "EngineSize: Engine size in liters.\n",
    "Horsepower: Horsepower of the vehicle.\n",
    "Weight: Weight of the vehicle in pounds.\n",
    "MPG_City: Miles per gallon in city driving.\n",
    "MPG_Highway: Miles per gallon on the highway.\n",
    "Price: Price of the vehicle in dollars.\n",
    "\n",
    "You are provided with the implementation and results of performing k-means clustering on the vehicles dataset (see below). Based on all the provided results and code, answer the following questions: \n",
    "- (5 points) Determine the best number of clusters (i.e., k) by checking the results of elbow method. Explain why you think this is the best number of clusters. Put the correct number of Optimal number of clusters in the code and re-run the code to provide cluster visualization. \n",
    "- (3 points) What does the computed Silhouette score determine? \n",
    "- (12 points) Fully discuss the results and what they imply about the different groups of vehicles.  Remember, the best number of clusters should provide meaningful clusters. "
   ]
  },
  {
   "cell_type": "markdown",
   "id": "10c0ef07",
   "metadata": {},
   "source": [
    "In the code below, we import the dataset vehicles.csv into a Pandas DataFrame. We drop the VehicleID column as it is not a relevant feature for clustering. Then we standardize the features to have zero mean and unit variance."
   ]
  },
  {
   "cell_type": "code",
   "execution_count": 12,
   "id": "630c6b07",
   "metadata": {},
   "outputs": [],
   "source": [
    "import pandas as pd\n",
    "from sklearn.preprocessing import StandardScaler\n",
    "\n",
    "# Load the dataset\n",
    "df = pd.read_csv('vehicles.csv')\n",
    "\n",
    "# Drop the VehicleID column\n",
    "df = df.drop('VehicleID', axis=1)\n",
    "\n",
    "# Standardize the features\n",
    "scaler = StandardScaler()\n",
    "standardized_features = scaler.fit_transform(df)\n"
   ]
  },
  {
   "cell_type": "markdown",
   "id": "dffe09d3",
   "metadata": {},
   "source": [
    "Here, we use the Elbow Method to determine the optimal number of clusters (k). We plot the results."
   ]
  },
  {
   "cell_type": "code",
   "execution_count": 9,
   "id": "d7b5254a",
   "metadata": {},
   "outputs": [
    {
     "data": {
      "image/png": "[encoded data removed]",
      "text/plain": [
       "<Figure size 432x288 with 1 Axes>"
      ]
     },
     "metadata": {
      "needs_background": "light"
     },
     "output_type": "display_data"
    }
   ],
   "source": [
    "from sklearn.cluster import KMeans\n",
    "import matplotlib.pyplot as plt\n",
    "\n",
    "# Use the Elbow Method to find the optimal number of clusters\n",
    "wcss = []\n",
    "for i in range(1, 9):\n",
    "    kmeans = KMeans(n_clusters=i, random_state=42)\n",
    "    kmeans.fit(standardized_features)\n",
    "    wcss.append(kmeans.inertia_)\n",
    "\n",
    "# Plot the Elbow Method graph\n",
    "plt.figure()\n",
    "plt.plot(range(1, 9), wcss, marker='o')\n",
    "plt.xlabel('Number of Clusters')\n",
    "plt.ylabel('WCSS')\n",
    "plt.title('Elbow Method for Optimal k')\n",
    "plt.show()\n"
   ]
  },
  {
   "cell_type": "markdown",
   "id": "fed747c5",
   "metadata": {},
   "source": [
    "Here, we calculate the silhouette score."
   ]
  },
  {
   "cell_type": "code",
   "execution_count": 14,
   "id": "d2fec987",
   "metadata": {},
   "outputs": [
    {
     "name": "stdout",
     "output_type": "stream",
     "text": [
      "Silhouette Score: 0.4518741264409399\n"
     ]
    }
   ],
   "source": [
    "from sklearn.metrics import silhouette_score\n",
    "\n",
    "# Calculate the silhouette score\n",
    "cluster_labels = kmeans.labels_\n",
    "silhouette_avg = silhouette_score(standardized_features, cluster_labels)\n",
    "print(f'Silhouette Score: {silhouette_avg}')\n",
    "\n",
    "# Discuss the results\n"
   ]
  },
  {
   "cell_type": "code",
   "execution_count": 19,
   "id": "8ab2c341",
   "metadata": {},
   "outputs": [],
   "source": [
    "# Optimal number of clusters \n",
    "optimal_clusters = 4\n",
    "\n",
    "# Apply k-means clustering\n",
    "kmeans = KMeans(n_clusters=optimal_clusters, random_state=42)\n",
    "cluster_labels = kmeans.fit_predict(standardized_features)\n",
    "\n",
    "# Add cluster labels to the original DataFrame\n",
    "df['Cluster'] = cluster_labels\n"
   ]
  },
  {
   "cell_type": "code",
   "execution_count": 20,
   "id": "b05a85bf",
   "metadata": {
    "scrolled": true
   },
   "outputs": [
    {
     "name": "stdout",
     "output_type": "stream",
     "text": [
      "         EngineSize  Horsepower  Weight   MPG_City  MPG_Highway         Price\n",
      "Cluster                                                                      \n",
      "0          3.100000  250.000000  3500.0  18.333333    25.333333  28333.333333\n",
      "1          1.700000  130.000000  2850.0  27.000000    33.000000  18500.000000\n",
      "2          4.000000  300.000000  4000.0  15.000000    22.000000  35000.000000\n",
      "3          2.233333  163.333333  3100.0  23.000000    30.000000  21000.000000\n"
     ]
    },
    {
     "data": {
      "image/png": "[encoded data removed]",
      "text/plain": [
       "<Figure size 432x288 with 1 Axes>"
      ]
     },
     "metadata": {
      "needs_background": "light"
     },
     "output_type": "display_data"
    }
   ],
   "source": [
    "# Analyze the characteristics of each cluster\n",
    "cluster_means = df.groupby('Cluster').mean()\n",
    "print(cluster_means)\n",
    "\n",
    "# Visualize the clusters\n",
    "import seaborn as sns\n",
    "\n",
    "# Scatter plot of EngineSize vs Price, color-coded by cluster\n",
    "plt.figure()\n",
    "sns.scatterplot(x='EngineSize', y='Price', hue='Cluster', data=df, palette='Set1')\n",
    "plt.title('Clusters of Vehicles (Engine Size vs Price)')\n",
    "plt.show()\n"
   ]
  },
  {
   "cell_type": "markdown",
   "id": "60170ae8",
   "metadata": {},
   "source": [
    "Q6- Explain how eigen values and eigen vectors are computed in Principal Component Analysis. Next, create a numerical example and provide your computations for eigen vectors and eigen values based on the lecture. In your example, assume that there are only 3 input features and 10 observations in your dataset. "
   ]
  },
  {
   "cell_type": "markdown",
   "id": "e5aa33e0",
   "metadata": {},
   "source": [
    "Q7- (15 points) Consider the table of measured data given below:\n",
    "![Generated Dataset](pic1.png)\n",
    "\n",
    "The goal is to build a decision tree model to predict the outcome y using the two features $x_1$,$x_2$, where each feature $x_1$,$x_2$ can take one of the three values: a, b, c. \n",
    "\n",
    "hint: \n",
    "- $log_2 (0.4) = -1.32 $                   \n",
    "- $log_2 (0.6) = -0.73 $\n",
    "- $log_2 (0.5) = -1 $                        \n",
    "- $log_2 (0.75) = -0.41 $\n",
    "- $log_2 (0.25) = -2 $\n",
    "\n",
    "\n",
    "Answer the following questions: \n",
    "\n",
    "- Compute the entropy of the target variable y (round to 3 decimal places). Include all your assumptions. Entropy(y) = ?\n",
    "- Compute the information gain for $x_1$ and $x_2$ attributes and show your work. Based on the computed values, indicate which attribute ($x_1$ or $x_2$) should be selected first in the split strategy during model construction. Show your computation and use the provided contingency table below, which is obtained from the information in the dataset in the table above.\n",
    "\n",
    "![Generated Dataset](cont.jpg)"
   ]
  },
  {
   "cell_type": "markdown",
   "id": "cc1f2115",
   "metadata": {},
   "source": [
    "Q8- (5 points) Explain how Random Forest algorithm controls the number of features to find the best split? "
   ]
  }
 ],
 "metadata": {
  "kernelspec": {
   "display_name": "Python 3",
   "language": "python",
   "name": "python3"
  },
  "language_info": {
   "codemirror_mode": {
    "name": "ipython",
    "version": 3
   },
   "file_extension": ".py",
   "mimetype": "text/x-python",
   "name": "python",
   "nbconvert_exporter": "python",
   "pygments_lexer": "ipython3",
   "version": "3.10.13"
  }
 },
 "nbformat": 4,
 "nbformat_minor": 5
}
